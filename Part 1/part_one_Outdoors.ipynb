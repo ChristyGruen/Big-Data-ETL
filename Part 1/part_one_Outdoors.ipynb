{
  "cells": [
    {
      "cell_type": "code",
      "execution_count": null,
      "metadata": {
        "colab": {
          "base_uri": "https://localhost:8080/"
        },
        "id": "-8eFW_wl1n39",
        "outputId": "2d0f6019-4c58-4194-a00b-1b1123ab82db"
      },
      "outputs": [
        {
          "output_type": "stream",
          "name": "stdout",
          "text": [
            "\r0% [Working]\r            \rGet:1 https://cloud.r-project.org/bin/linux/ubuntu focal-cran40/ InRelease [3,622 B]\n",
            "Hit:2 http://archive.ubuntu.com/ubuntu focal InRelease\n",
            "Ign:3 https://developer.download.nvidia.com/compute/machine-learning/repos/ubuntu2004/x86_64  InRelease\n",
            "Hit:4 https://developer.download.nvidia.com/compute/cuda/repos/ubuntu2004/x86_64  InRelease\n",
            "Hit:5 https://developer.download.nvidia.com/compute/machine-learning/repos/ubuntu2004/x86_64  Release\n",
            "Get:6 http://archive.ubuntu.com/ubuntu focal-updates InRelease [114 kB]\n",
            "Hit:7 http://ppa.launchpad.net/c2d4u.team/c2d4u4.0+/ubuntu focal InRelease\n",
            "Get:8 http://security.ubuntu.com/ubuntu focal-security InRelease [114 kB]\n",
            "Get:9 http://archive.ubuntu.com/ubuntu focal-backports InRelease [108 kB]\n",
            "Hit:10 http://ppa.launchpad.net/cran/libgit2/ubuntu focal InRelease\n",
            "Hit:11 http://ppa.launchpad.net/deadsnakes/ppa/ubuntu focal InRelease\n",
            "Hit:12 http://ppa.launchpad.net/graphics-drivers/ppa/ubuntu focal InRelease\n",
            "Hit:14 http://ppa.launchpad.net/ubuntugis/ppa/ubuntu focal InRelease\n",
            "Get:15 http://archive.ubuntu.com/ubuntu focal-updates/universe amd64 Packages [1,311 kB]\n",
            "Get:16 http://archive.ubuntu.com/ubuntu focal-updates/main amd64 Packages [3,017 kB]\n",
            "Get:17 http://security.ubuntu.com/ubuntu focal-security/main amd64 Packages [2,542 kB]\n",
            "Get:18 http://security.ubuntu.com/ubuntu focal-security/universe amd64 Packages [1,017 kB]\n",
            "Fetched 8,226 kB in 6s (1,416 kB/s)\n",
            "Reading package lists... Done\n"
          ]
        }
      ],
      "source": [
        "# Activate Spark in our Colab notebook.\n",
        "import os\n",
        "# Find the latest version of spark 3.2  from http://www.apache.org/dist/spark/ and enter as the spark version\n",
        "# For example:\n",
        "# spark_version = 'spark-3.2.2'\n",
        "spark_version = 'spark-3.2.3'\n",
        "os.environ['SPARK_VERSION']=spark_version\n",
        "\n",
        "# Install Spark and Java\n",
        "!apt-get update\n",
        "!apt-get install openjdk-11-jdk-headless -qq > /dev/null\n",
        "!wget -q http://www.apache.org/dist/spark/$SPARK_VERSION/$SPARK_VERSION-bin-hadoop2.7.tgz\n",
        "!tar xf $SPARK_VERSION-bin-hadoop2.7.tgz\n",
        "!pip install -q findspark\n",
        "\n",
        "# Set Environment Variables\n",
        "import os\n",
        "os.environ[\"JAVA_HOME\"] = \"/usr/lib/jvm/java-11-openjdk-amd64\"\n",
        "os.environ[\"SPARK_HOME\"] = f\"/content/{spark_version}-bin-hadoop2.7\"\n",
        "\n",
        "# Start a SparkSession\n",
        "import findspark\n",
        "findspark.init()"
      ]
    },
    {
      "cell_type": "code",
      "execution_count": null,
      "metadata": {
        "colab": {
          "base_uri": "https://localhost:8080/"
        },
        "id": "BzCrgs0Z1rnw",
        "outputId": "df584544-a99b-4af3-905c-51534bc2eb6e"
      },
      "outputs": [
        {
          "output_type": "stream",
          "name": "stdout",
          "text": [
            "--2023-03-13 23:48:25--  https://jdbc.postgresql.org/download/postgresql-42.2.9.jar\n",
            "Resolving jdbc.postgresql.org (jdbc.postgresql.org)... 72.32.157.228, 2001:4800:3e1:1::228\n",
            "Connecting to jdbc.postgresql.org (jdbc.postgresql.org)|72.32.157.228|:443... connected.\n",
            "HTTP request sent, awaiting response... 200 OK\n",
            "Length: 914037 (893K) [application/java-archive]\n",
            "Saving to: ‘postgresql-42.2.9.jar’\n",
            "\n",
            "postgresql-42.2.9.j 100%[===================>] 892.61K  4.50MB/s    in 0.2s    \n",
            "\n",
            "2023-03-13 23:48:26 (4.50 MB/s) - ‘postgresql-42.2.9.jar’ saved [914037/914037]\n",
            "\n"
          ]
        }
      ],
      "source": [
        "# Get postgresql package\n",
        "!wget https://jdbc.postgresql.org/download/postgresql-42.2.9.jar"
      ]
    },
    {
      "cell_type": "code",
      "execution_count": null,
      "metadata": {
        "id": "0DuBth0V2PR8"
      },
      "outputs": [],
      "source": [
        "# Import Spark and create a SparkSession\n",
        "from pyspark.sql import SparkSession\n",
        "spark = SparkSession.builder.appName(\"BigData-HW-1\").config(\"spark.driver.extraClassPath\",\"/content/postgresql-42.2.9.jar\").getOrCreate()"
      ]
    },
    {
      "cell_type": "markdown",
      "metadata": {
        "id": "D3W2XJVi2CU-"
      },
      "source": [
        "# Extract the Amazon Data into Spark DataFrame"
      ]
    },
    {
      "cell_type": "code",
      "execution_count": null,
      "metadata": {
        "colab": {
          "base_uri": "https://localhost:8080/"
        },
        "id": "Na_stw7b1wfU",
        "outputId": "c0e7ee8d-0fe1-4b00-a8c2-dfb19ddcee3a"
      },
      "outputs": [
        {
          "output_type": "stream",
          "name": "stdout",
          "text": [
            "+-----------+-----------+--------------+----------+--------------+--------------------+----------------+-----------+-------------+-----------+----+-----------------+--------------------+--------------------+-------------------+\n",
            "|marketplace|customer_id|     review_id|product_id|product_parent|       product_title|product_category|star_rating|helpful_votes|total_votes|vine|verified_purchase|     review_headline|         review_body|        review_date|\n",
            "+-----------+-----------+--------------+----------+--------------+--------------------+----------------+-----------+-------------+-----------+----+-----------------+--------------------+--------------------+-------------------+\n",
            "|         US|   18446823|R35T75OLUGHL5C|B000NV6H94|     110804376|Stearns Youth Boa...|        Outdoors|          4|            0|          0|   N|                Y|          Four Stars|          GOOD VALUE|2015-08-31 00:00:00|\n",
            "|         US|   13724367|R2BV735O46BN33|B000IN0W3Y|     624096774|Primal Wear Men's...|        Outdoors|          5|            0|          0|   N|                Y|          Five Stars|  Excellent quality.|2015-08-31 00:00:00|\n",
            "|         US|   51001958|R2NBEUGPQQGXP1|B008RBJXFM|     278970944|Osprey Hydraulics...|        Outdoors|          4|            0|          0|   N|                Y|Only Flaw Is The Cap|3rd season using ...|2015-08-31 00:00:00|\n",
            "|         US|   32866903|R17LLAOJ8ITK0S|B00FK8WUQY|     312877650|CamelBak eddy .75...|        Outdoors|          3|            1|          1|   N|                Y|Poor design leads...|poor construction...|2015-08-31 00:00:00|\n",
            "|         US|   30907790|R39PEQBT5ISEF4|B00EZA3VW0|     305567912|Children Black Re...|        Outdoors|          1|            0|          0|   N|                Y|Very bad quality,...|Very bad quality,...|2015-08-31 00:00:00|\n",
            "|         US|   20232229|R3GNM3SU9VHJFT|B006JA8WEG|     842306035|Ibera Bicycle Tri...|        Outdoors|          4|            1|          1|   N|                Y|Nice bag. Should ...|Nice bag. Should ...|2015-08-31 00:00:00|\n",
            "|         US|   17698862| R2Y81OP0EK467|B002PWFSEO|     451480122|Therm-a-Rest Comp...|        Outdoors|          5|            0|          0|   N|                Y|Very comfortable ...|Gave this to my s...|2015-08-31 00:00:00|\n",
            "|         US|   38486114|R2LFGSI6HAYH5F|B002DZGKHW|     124386306|Sawyer Products P...|        Outdoors|          5|            1|          1|   N|                Y| Worked like a charm|Went on vacation ...|2015-08-31 00:00:00|\n",
            "|         US|   26319572|R297G6ED1IQO7W|B00ABA08F6|     991442421|Zippo Hand Warmer...|        Outdoors|          5|            1|          1|   N|                Y|Great item. Gets ...|Great item. Gets ...|2015-08-31 00:00:00|\n",
            "|         US|   27152337| RE27RFC6101N6|B003Z8WIHC|     886483892|Camp Chef Dutch O...|        Outdoors|          5|            0|          0|   N|                Y|Great value for t...|I am so glad I bo...|2015-08-31 00:00:00|\n",
            "+-----------+-----------+--------------+----------+--------------+--------------------+----------------+-----------+-------------+-----------+----+-----------------+--------------------+--------------------+-------------------+\n",
            "only showing top 10 rows\n",
            "\n"
          ]
        }
      ],
      "source": [
        "# Read in the data from an S3 Bucket\n",
        "# https://s3.amazonaws.com/amazon-reviews-pds/tsv/amazon_reviews_us_Outdoors_v1_00.tsv.gz\n",
        "from pyspark import SparkFiles\n",
        "url = \"https://s3.amazonaws.com/amazon-reviews-pds/tsv/amazon_reviews_us_Outdoors_v1_00.tsv.gz\"\n",
        "spark.sparkContext.addFile(url)\n",
        "\n",
        "df = spark.read.option('header', 'true').csv(SparkFiles.get(\"amazon_reviews_us_Outdoors_v1_00.tsv.gz\"), inferSchema=True, sep='\\t', timestampFormat=\"yyyy-MM-dd\")\n",
        "df.show(10)\n"
      ]
    },
    {
      "cell_type": "code",
      "source": [
        "df.printSchema()"
      ],
      "metadata": {
        "colab": {
          "base_uri": "https://localhost:8080/"
        },
        "id": "gUigCqZ5OKX6",
        "outputId": "5580cbd9-0de9-48f5-e133-f702055230a7"
      },
      "execution_count": null,
      "outputs": [
        {
          "output_type": "stream",
          "name": "stdout",
          "text": [
            "root\n",
            " |-- marketplace: string (nullable = true)\n",
            " |-- customer_id: integer (nullable = true)\n",
            " |-- review_id: string (nullable = true)\n",
            " |-- product_id: string (nullable = true)\n",
            " |-- product_parent: integer (nullable = true)\n",
            " |-- product_title: string (nullable = true)\n",
            " |-- product_category: string (nullable = true)\n",
            " |-- star_rating: integer (nullable = true)\n",
            " |-- helpful_votes: integer (nullable = true)\n",
            " |-- total_votes: integer (nullable = true)\n",
            " |-- vine: string (nullable = true)\n",
            " |-- verified_purchase: string (nullable = true)\n",
            " |-- review_headline: string (nullable = true)\n",
            " |-- review_body: string (nullable = true)\n",
            " |-- review_date: timestamp (nullable = true)\n",
            "\n"
          ]
        }
      ]
    },
    {
      "cell_type": "code",
      "execution_count": null,
      "metadata": {
        "colab": {
          "base_uri": "https://localhost:8080/"
        },
        "id": "Cayz-3Q52IM3",
        "outputId": "2085bdf7-3063-4136-a19b-3ff949783a99"
      },
      "outputs": [
        {
          "output_type": "stream",
          "name": "stdout",
          "text": [
            "number of rows in the Data Frame = 2302401\n"
          ]
        }
      ],
      "source": [
        "# Get the number of rows in the DataFrame.\n",
        "print(f'number of rows in the Data Frame = {df.count()}')"
      ]
    },
    {
      "cell_type": "code",
      "source": [
        "# Drop null values, by default is any which means will drop any rows which has a NA\n",
        "print((df.count(),len(df.columns)))\n",
        "df2 = df.dropna()\n",
        "df3 = df2.dropDuplicates()\n",
        "print((df3.count(),len(df3.columns)))\n",
        "df3.show()\n"
      ],
      "metadata": {
        "colab": {
          "base_uri": "https://localhost:8080/"
        },
        "id": "B1bJKdskOSpO",
        "outputId": "363cbb92-900b-4f19-8a0c-a68c4027bf24"
      },
      "execution_count": null,
      "outputs": [
        {
          "output_type": "stream",
          "name": "stdout",
          "text": [
            "(2302401, 15)\n",
            "(2302174, 15)\n",
            "+-----------+-----------+--------------+----------+--------------+--------------------+----------------+-----------+-------------+-----------+----+-----------------+--------------------+--------------------+-------------------+\n",
            "|marketplace|customer_id|     review_id|product_id|product_parent|       product_title|product_category|star_rating|helpful_votes|total_votes|vine|verified_purchase|     review_headline|         review_body|        review_date|\n",
            "+-----------+-----------+--------------+----------+--------------+--------------------+----------------+-----------+-------------+-----------+----+-----------------+--------------------+--------------------+-------------------+\n",
            "|         US|   15644771|R100GF4836CVA9|B0000E014E|     533431966|Terramar Women's ...|        Outdoors|          5|            0|          0|   N|                Y|Nice stuff; incor...|Fits well, keeps ...|2015-01-21 00:00:00|\n",
            "|         US|   21774903|R1015BJNB5X8JC|B004P5XOTA|     574224922|UCO Stormproof Ma...|        Outdoors|          5|            0|          0|   N|                Y|             Love it|Perfect for the b...|2015-06-01 00:00:00|\n",
            "|         US|   44641100|R101K7H9652YPL|B00PLG6FZM|     300607595|VITCHELO V800 Hea...|        Outdoors|          5|            0|          0|   N|                Y|    Money well spent|At first I was lo...|2015-08-25 00:00:00|\n",
            "|         US|   45214968|R1026XJRFNZYY4|B002QAVQ14|     558253757|InStep Take 2 Dou...|        Outdoors|          2|            0|          0|   N|                N|Its great when it...|The back tire fra...|2014-08-20 00:00:00|\n",
            "|         US|    6814669|R102FCGC30VU1M|B00OP4MH62|     226080130|ParaCord Spool To...|        Outdoors|          5|            0|          0|   N|                Y|          Five Stars|great product, go...|2015-07-12 00:00:00|\n",
            "|         US|   20168750|R102R2YX5PT1KE|B00165N88O|     663045829|Avenir Classic Co...|        Outdoors|          2|            0|          0|   N|                Y|           Too small|I ordered XL, and...|2014-05-26 00:00:00|\n",
            "|         US|   45778690|R102Y50B81GJV2|B00LVP6ZZM|     502612531|Allen Sports Ultr...|        Outdoors|          5|           10|         11|   Y|                N|            A Beast.|I ride a bike mos...|2014-12-22 00:00:00|\n",
            "|         US|   52786988|R1030OA5DPCNZN|B00QEC3XZC|     903076621|The North Face Me...|        Outdoors|          5|            0|          0|   N|                Y|            Spot on!|Had seen this jac...|2015-03-13 00:00:00|\n",
            "|         US|   10872475|R103FLVTAYQLPZ|B00JX5W56U|     382622505|Andoer Protective...|        Outdoors|          5|            2|          4|   N|                Y|These are great.....|These are great ....|2014-07-16 00:00:00|\n",
            "|         US|   33045796|R103IOF24MG7JN|B0009KF4H0|     405897453|Victorinox Swiss ...|        Outdoors|          3|            0|          0|   N|                Y|It is not good as...|Description on we...|2015-03-28 00:00:00|\n",
            "|         US|   12690557|R103KLAGCQ9YLW|B006GJ8Q7S|     483017301|Coleman 8-Person ...|        Outdoors|          1|            0|          0|   N|                N|        Buyer beward|Be careful when o...|2015-04-07 00:00:00|\n",
            "|         US|    5815764|R104O7NM2AYLGA|B007Q4O3RY|     411742069|Shimano FC-M640 Z...|        Outdoors|          5|            0|          1|   N|                Y|          Five Stars|Excelent as i exp...|2015-08-06 00:00:00|\n",
            "|         US|   10071729|R10503H9JLF6U9|B004SU7TRU|     285653809|JanSport Wasabi B...|        Outdoors|          1|            0|          0|   N|                Y|Strap failed in 2...|I bought this bra...|2013-08-29 00:00:00|\n",
            "|         US|   35690271|R1055Z40PSYCIV|B002S0V15I|     343601458|Razor Jr. Lil' Ki...|        Outdoors|          2|           21|         28|   N|                N|not for anyone ov...|the riding board ...|2012-01-20 00:00:00|\n",
            "|         US|   29730862|R105KIPKDI09BL|B00L2INSXU|     232664475|Columbia Sportswe...|        Outdoors|          5|            0|          0|   N|                Y|Great for fishing...|My husband loves ...|2015-08-18 00:00:00|\n",
            "|         US|   16934243|R106EOZVT186DC|B00LASYHLY|     131302350|BlizeTec Fire Sta...|        Outdoors|          5|            2|          2|   N|                Y|Excellent hiker/B...|Excellent Fire St...|2015-01-20 00:00:00|\n",
            "|         US|   50650736|R106HR99HVYSUI|B00NW8JEWC|     377949274|AFUNTA Set Small ...|        Outdoors|          3|            0|          0|   N|                Y|Paint wears off q...|Warning: the fini...|2015-01-26 00:00:00|\n",
            "|         US|   12357983|R1078C9S5G3F4D|B002W5S3P0|     803691544|Primal Wear US Ar...|        Outdoors|          5|            7|          8|   N|                Y|US Army Camo Jers...|The jersey is hig...|2010-05-11 00:00:00|\n",
            "|         US|   44323162|R1078D3G8EH0HT|B000IZGFCE|     804678585| Pedro's Tire Levers|        Outdoors|          4|            0|          0|   N|                Y|I use them as my ...|I use them as my ...|2015-03-03 00:00:00|\n",
            "|         US|   17761744|R1078V8BMRX8ON|B008KCL6YO|     891799471|NiteRider Lumina ...|        Outdoors|          5|            0|          0|   N|                Y|    handle bar mount|This new version ...|2013-03-05 00:00:00|\n",
            "+-----------+-----------+--------------+----------+--------------+--------------------+----------------+-----------+-------------+-----------+----+-----------------+--------------------+--------------------+-------------------+\n",
            "only showing top 20 rows\n",
            "\n"
          ]
        }
      ]
    },
    {
      "cell_type": "code",
      "source": [
        "df3.columns"
      ],
      "metadata": {
        "colab": {
          "base_uri": "https://localhost:8080/"
        },
        "id": "x4OYhVlxOVpf",
        "outputId": "a5f1bbf7-440a-48cc-dd91-c83b5f164b72"
      },
      "execution_count": null,
      "outputs": [
        {
          "output_type": "execute_result",
          "data": {
            "text/plain": [
              "['marketplace',\n",
              " 'customer_id',\n",
              " 'review_id',\n",
              " 'product_id',\n",
              " 'product_parent',\n",
              " 'product_title',\n",
              " 'product_category',\n",
              " 'star_rating',\n",
              " 'helpful_votes',\n",
              " 'total_votes',\n",
              " 'vine',\n",
              " 'verified_purchase',\n",
              " 'review_headline',\n",
              " 'review_body',\n",
              " 'review_date']"
            ]
          },
          "metadata": {},
          "execution_count": 10
        }
      ]
    },
    {
      "cell_type": "markdown",
      "metadata": {
        "id": "C9U0rkGZ2eu7"
      },
      "source": [
        "# Transform the Data"
      ]
    },
    {
      "cell_type": "markdown",
      "source": [
        "## Create the \"review_id_table\"."
      ],
      "metadata": {
        "id": "dUoftWoKtM_c"
      }
    },
    {
      "cell_type": "code",
      "execution_count": null,
      "metadata": {
        "id": "2tMYkSIk2d-m"
      },
      "outputs": [],
      "source": [
        "# from pyspark.sql.functions import to_date\n",
        "from pyspark.sql.functions import *\n",
        "from pyspark.sql.types import *\n",
        "# Create the \"review_id_df\" DataFrame with the appropriate columns and data types.\n",
        "review_id_table_df = df3.select([\"review_id\", \"customer_id\", \"product_id\", \"product_parent\", \"review_date\"])\n",
        "review_id_table_df2 = review_id_table_df.withColumn(\"review_date\",to_date(col(\"review_date\")))\n",
        "# review_id_table_df.show(truncate=False)\n"
      ]
    },
    {
      "cell_type": "code",
      "source": [
        "type(review_id_table_df2)"
      ],
      "metadata": {
        "colab": {
          "base_uri": "https://localhost:8080/"
        },
        "id": "swqQoIrHOggq",
        "outputId": "25aecf43-ed62-4e69-9baa-b1cfa50a901f"
      },
      "execution_count": null,
      "outputs": [
        {
          "output_type": "execute_result",
          "data": {
            "text/plain": [
              "pyspark.sql.dataframe.DataFrame"
            ]
          },
          "metadata": {},
          "execution_count": 12
        }
      ]
    },
    {
      "cell_type": "code",
      "source": [
        "review_id_table_df2.printSchema()"
      ],
      "metadata": {
        "colab": {
          "base_uri": "https://localhost:8080/"
        },
        "id": "lBcJyBRkOfIe",
        "outputId": "fd33f873-a451-4af5-a754-0d14332c8d9a"
      },
      "execution_count": null,
      "outputs": [
        {
          "output_type": "stream",
          "name": "stdout",
          "text": [
            "root\n",
            " |-- review_id: string (nullable = true)\n",
            " |-- customer_id: integer (nullable = true)\n",
            " |-- product_id: string (nullable = true)\n",
            " |-- product_parent: integer (nullable = true)\n",
            " |-- review_date: date (nullable = true)\n",
            "\n"
          ]
        }
      ]
    },
    {
      "cell_type": "code",
      "source": [
        "review_id_table_df2.show()"
      ],
      "metadata": {
        "colab": {
          "base_uri": "https://localhost:8080/"
        },
        "id": "9ABTacFaOeOJ",
        "outputId": "686fe662-03b8-4d8a-9440-30b53ae696a2"
      },
      "execution_count": null,
      "outputs": [
        {
          "output_type": "stream",
          "name": "stdout",
          "text": [
            "+--------------+-----------+----------+--------------+-----------+\n",
            "|     review_id|customer_id|product_id|product_parent|review_date|\n",
            "+--------------+-----------+----------+--------------+-----------+\n",
            "|R100GF4836CVA9|   15644771|B0000E014E|     533431966| 2015-01-21|\n",
            "|R1015BJNB5X8JC|   21774903|B004P5XOTA|     574224922| 2015-06-01|\n",
            "|R101K7H9652YPL|   44641100|B00PLG6FZM|     300607595| 2015-08-25|\n",
            "|R1026XJRFNZYY4|   45214968|B002QAVQ14|     558253757| 2014-08-20|\n",
            "|R102FCGC30VU1M|    6814669|B00OP4MH62|     226080130| 2015-07-12|\n",
            "|R102R2YX5PT1KE|   20168750|B00165N88O|     663045829| 2014-05-26|\n",
            "|R102Y50B81GJV2|   45778690|B00LVP6ZZM|     502612531| 2014-12-22|\n",
            "|R1030OA5DPCNZN|   52786988|B00QEC3XZC|     903076621| 2015-03-13|\n",
            "|R103FLVTAYQLPZ|   10872475|B00JX5W56U|     382622505| 2014-07-16|\n",
            "|R103IOF24MG7JN|   33045796|B0009KF4H0|     405897453| 2015-03-28|\n",
            "|R103KLAGCQ9YLW|   12690557|B006GJ8Q7S|     483017301| 2015-04-07|\n",
            "|R104O7NM2AYLGA|    5815764|B007Q4O3RY|     411742069| 2015-08-06|\n",
            "|R10503H9JLF6U9|   10071729|B004SU7TRU|     285653809| 2013-08-29|\n",
            "|R1055Z40PSYCIV|   35690271|B002S0V15I|     343601458| 2012-01-20|\n",
            "|R105KIPKDI09BL|   29730862|B00L2INSXU|     232664475| 2015-08-18|\n",
            "|R106EOZVT186DC|   16934243|B00LASYHLY|     131302350| 2015-01-20|\n",
            "|R106HR99HVYSUI|   50650736|B00NW8JEWC|     377949274| 2015-01-26|\n",
            "|R1078C9S5G3F4D|   12357983|B002W5S3P0|     803691544| 2010-05-11|\n",
            "|R1078D3G8EH0HT|   44323162|B000IZGFCE|     804678585| 2015-03-03|\n",
            "|R1078V8BMRX8ON|   17761744|B008KCL6YO|     891799471| 2013-03-05|\n",
            "+--------------+-----------+----------+--------------+-----------+\n",
            "only showing top 20 rows\n",
            "\n"
          ]
        }
      ]
    },
    {
      "cell_type": "markdown",
      "source": [
        "## Create the \"products\" Table"
      ],
      "metadata": {
        "id": "aAVCFjXhtXO8"
      }
    },
    {
      "cell_type": "code",
      "execution_count": null,
      "metadata": {
        "id": "g9gTNhT62je4",
        "colab": {
          "base_uri": "https://localhost:8080/"
        },
        "outputId": "4c16838f-5dbf-4c84-9c89-e24af4817766"
      },
      "outputs": [
        {
          "output_type": "stream",
          "name": "stdout",
          "text": [
            "(391700, 2)\n",
            "+----------+--------------------+\n",
            "|product_id|       product_title|\n",
            "+----------+--------------------+\n",
            "|B00IFHFJXI|Ivation Portable ...|\n",
            "|B00WG0J0D0|JanSport Superbre...|\n",
            "|B00V15AUN0|Nickelodeon Paw P...|\n",
            "|B00FUWSTI8|Bago Lightweight ...|\n",
            "|B003FV94NA|Michelin Lithion ...|\n",
            "|B00WIK04HO|Ultra Bright Camp...|\n",
            "|B00J2HSCM0|High Sierra Tank ...|\n",
            "|B009I6NSR4|Black Veil Brides...|\n",
            "|B001GSHSLE|Stansport 191 App...|\n",
            "|B00L2IO9M4|Columbia Sportswe...|\n",
            "|B00KY7IM7W|Nalgene 32 Oz Wid...|\n",
            "|B00TV5JCTK|Rollerblade ABEC ...|\n",
            "|B00B9D071Y|BUFF UV Multifunc...|\n",
            "|B00F9IGIKO|Condor Tactical F...|\n",
            "|B004X55L9I|Hydro Flask Insul...|\n",
            "|B00LORROIY|Scuba Choice Divi...|\n",
            "|B00AATRU8G|Kelty Redwing 44 ...|\n",
            "|B00HMCYWEO|Dakine Explorer L...|\n",
            "|B004DK1CM8|Hot Headz 12V Hea...|\n",
            "|B00T4W6SSS|Fits Sock Light H...|\n",
            "+----------+--------------------+\n",
            "only showing top 20 rows\n",
            "\n"
          ]
        }
      ],
      "source": [
        "# Create the \"products_df\" DataFrame that drops the duplicates in the \"product_id\" and \"product_title columns. \n",
        "products_df2 = df3.select([\"product_id\", \"product_title\"])\n",
        "products_df = products_df2.dropDuplicates()\n",
        "print((products_df.count(),len(products_df.columns)))\n",
        "products_df.show()"
      ]
    },
    {
      "cell_type": "markdown",
      "source": [
        "## Create the \"customers\" Table"
      ],
      "metadata": {
        "id": "LJHuZ9zut0e5"
      }
    },
    {
      "cell_type": "code",
      "execution_count": null,
      "metadata": {
        "colab": {
          "base_uri": "https://localhost:8080/"
        },
        "id": "_pF2Vf3c2n2O",
        "outputId": "4c36e742-5b4c-4e23-d88d-b2bbf433a650"
      },
      "outputs": [
        {
          "output_type": "stream",
          "name": "stdout",
          "text": [
            "+-----------+--------------+\n",
            "|customer_id|customer_count|\n",
            "+-----------+--------------+\n",
            "|   30605925|             8|\n",
            "|   19369914|             1|\n",
            "|   45874295|             1|\n",
            "|   31725909|             2|\n",
            "|   45475563|             3|\n",
            "|   12005663|             1|\n",
            "|    3270869|             5|\n",
            "|   49945790|             2|\n",
            "|    6664524|             9|\n",
            "|   21651140|             2|\n",
            "|   12532704|             1|\n",
            "|   19850820|            17|\n",
            "|   10878516|             1|\n",
            "|   47457340|             1|\n",
            "|   20528213|             1|\n",
            "|   10400847|             8|\n",
            "|   30800260|             4|\n",
            "|   11172320|             1|\n",
            "|   11035586|             2|\n",
            "|   23081895|             3|\n",
            "+-----------+--------------+\n",
            "only showing top 20 rows\n",
            "\n"
          ]
        }
      ],
      "source": [
        "# Create the \"customers_df\" DataFrame that groups the data on the \"customer_id\" by the number of times a customer reviewed a product. \n",
        "\n",
        "\n",
        "from pyspark.sql.functions import desc,count\n",
        "\n",
        "customers_df= df3.groupBy('customer_id').agg(count(\"customer_id\").alias(\"customer_count\"))\n",
        "customers_df.show()"
      ]
    },
    {
      "cell_type": "code",
      "source": [
        "customers_df.printSchema()"
      ],
      "metadata": {
        "colab": {
          "base_uri": "https://localhost:8080/"
        },
        "id": "ywLxBdQIOssU",
        "outputId": "f225a06a-7222-46ac-e5c6-8e14040d7366"
      },
      "execution_count": null,
      "outputs": [
        {
          "output_type": "stream",
          "name": "stdout",
          "text": [
            "root\n",
            " |-- customer_id: integer (nullable = true)\n",
            " |-- customer_count: long (nullable = false)\n",
            "\n"
          ]
        }
      ]
    },
    {
      "cell_type": "markdown",
      "source": [
        "## Create the \"vine_table\"."
      ],
      "metadata": {
        "id": "8SbTasxbuXGK"
      }
    },
    {
      "cell_type": "code",
      "execution_count": null,
      "metadata": {
        "colab": {
          "base_uri": "https://localhost:8080/"
        },
        "id": "WHQKbmCE2p3Q",
        "outputId": "d1dd9980-5c51-455b-9dd1-96e8227590df"
      },
      "outputs": [
        {
          "output_type": "stream",
          "name": "stdout",
          "text": [
            "+--------------+-----------+-------------+-----------+----+\n",
            "|     review_id|star_rating|helpful_votes|total_votes|vine|\n",
            "+--------------+-----------+-------------+-----------+----+\n",
            "|R100GF4836CVA9|          5|            0|          0|   N|\n",
            "|R1015BJNB5X8JC|          5|            0|          0|   N|\n",
            "|R101K7H9652YPL|          5|            0|          0|   N|\n",
            "|R1026XJRFNZYY4|          2|            0|          0|   N|\n",
            "|R102FCGC30VU1M|          5|            0|          0|   N|\n",
            "|R102R2YX5PT1KE|          2|            0|          0|   N|\n",
            "|R102Y50B81GJV2|          5|           10|         11|   Y|\n",
            "|R1030OA5DPCNZN|          5|            0|          0|   N|\n",
            "|R103FLVTAYQLPZ|          5|            2|          4|   N|\n",
            "|R103IOF24MG7JN|          3|            0|          0|   N|\n",
            "|R103KLAGCQ9YLW|          1|            0|          0|   N|\n",
            "|R104O7NM2AYLGA|          5|            0|          1|   N|\n",
            "|R10503H9JLF6U9|          1|            0|          0|   N|\n",
            "|R1055Z40PSYCIV|          2|           21|         28|   N|\n",
            "|R105KIPKDI09BL|          5|            0|          0|   N|\n",
            "|R106EOZVT186DC|          5|            2|          2|   N|\n",
            "|R106HR99HVYSUI|          3|            0|          0|   N|\n",
            "|R1078C9S5G3F4D|          5|            7|          8|   N|\n",
            "|R1078D3G8EH0HT|          4|            0|          0|   N|\n",
            "|R1078V8BMRX8ON|          5|            0|          0|   N|\n",
            "+--------------+-----------+-------------+-----------+----+\n",
            "only showing top 20 rows\n",
            "\n"
          ]
        }
      ],
      "source": [
        "# Create the \"vine_df\" DataFrame that has the \"review_id\", \"star_rating\", \"helpful_votes\", \"total_votes\", and \"vine\" columns. \n",
        "vine_df = df3.select([\"review_id\", \"star_rating\", \"helpful_votes\", \"total_votes\", \"vine\"])\n",
        "vine_df.show()"
      ]
    },
    {
      "cell_type": "markdown",
      "metadata": {
        "id": "I8aTsEjZ2s6L"
      },
      "source": [
        "# Load"
      ]
    },
    {
      "cell_type": "code",
      "execution_count": null,
      "metadata": {
        "id": "W4dzUKfI2vXM"
      },
      "outputs": [],
      "source": [
        "# mode = \"append\"\n",
        "# jdbc_url=\"jdbc:postgresql://<endpoint>:5432/my_data_class_db\"\n",
        "# config = {\"user\":\"postgres\", \"password\": \"<password>\", \"driver\":\"org.postgresql.Driver\"}\n",
        "\n",
        "mode = \"append\"\n",
        "jdbc_url=\"jdbc:postgresql://mypostgresdb.cailygz0tqjt.us-east-1.rds.amazonaws.com:5432/my_data_class_db\"\n",
        "config = {\"user\":\"postgres\", \"password\": \"123postgres456\", \"driver\":\"org.postgresql.Driver\"}"
      ]
    },
    {
      "cell_type": "code",
      "execution_count": null,
      "metadata": {
        "id": "iOxKqMsD2yVs"
      },
      "outputs": [],
      "source": [
        "# Write review_id_df to table in RDS\n",
        "review_id_table_df2.write.jdbc(url=jdbc_url, table='review_id_table_Outdoors', mode=mode, properties=config)"
      ]
    },
    {
      "cell_type": "code",
      "execution_count": null,
      "metadata": {
        "id": "pPXyGVE-2yPJ"
      },
      "outputs": [],
      "source": [
        "# Write products_df to table in RDS\n",
        "products_df.write.jdbc(url=jdbc_url, table='products_Outdoors', mode=mode, properties=config)"
      ]
    },
    {
      "cell_type": "code",
      "execution_count": null,
      "metadata": {
        "id": "aHbca4zN2yIa"
      },
      "outputs": [],
      "source": [
        "# Write customers_df to table in RDS\n",
        "customers_df.write.jdbc(url=jdbc_url, table='customers_Outdoors', mode=mode, properties=config)"
      ]
    },
    {
      "cell_type": "code",
      "execution_count": null,
      "metadata": {
        "id": "2HfOFneW2x_F"
      },
      "outputs": [],
      "source": [
        "# Write vine_df to table in RDS\n",
        "vine_df.write.jdbc(url=jdbc_url, table='vine_table_Outdoors', mode=mode, properties=config)"
      ]
    }
  ],
  "metadata": {
    "colab": {
      "provenance": []
    },
    "kernelspec": {
      "display_name": "Python 3",
      "language": "python",
      "name": "python3"
    },
    "language_info": {
      "codemirror_mode": {
        "name": "ipython",
        "version": 3
      },
      "file_extension": ".py",
      "mimetype": "text/x-python",
      "name": "python",
      "nbconvert_exporter": "python",
      "pygments_lexer": "ipython3",
      "version": "3.8.8"
    }
  },
  "nbformat": 4,
  "nbformat_minor": 0
}
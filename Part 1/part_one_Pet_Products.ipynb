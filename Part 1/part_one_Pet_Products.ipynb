{
  "cells": [
    {
      "cell_type": "code",
      "execution_count": null,
      "metadata": {
        "colab": {
          "base_uri": "https://localhost:8080/"
        },
        "id": "-8eFW_wl1n39",
        "outputId": "4b4a82fd-b4d3-4622-f57a-ac4304d75ea4"
      },
      "outputs": [
        {
          "output_type": "stream",
          "name": "stdout",
          "text": [
            "Get:1 https://cloud.r-project.org/bin/linux/ubuntu focal-cran40/ InRelease [3,622 B]\n",
            "Hit:2 http://archive.ubuntu.com/ubuntu focal InRelease\n",
            "Ign:3 https://developer.download.nvidia.com/compute/machine-learning/repos/ubuntu2004/x86_64  InRelease\n",
            "Hit:4 https://developer.download.nvidia.com/compute/cuda/repos/ubuntu2004/x86_64  InRelease\n",
            "Hit:5 https://developer.download.nvidia.com/compute/machine-learning/repos/ubuntu2004/x86_64  Release\n",
            "Get:6 http://archive.ubuntu.com/ubuntu focal-updates InRelease [114 kB]\n",
            "Hit:7 http://ppa.launchpad.net/c2d4u.team/c2d4u4.0+/ubuntu focal InRelease\n",
            "Get:8 http://security.ubuntu.com/ubuntu focal-security InRelease [114 kB]\n",
            "Hit:10 http://ppa.launchpad.net/cran/libgit2/ubuntu focal InRelease\n",
            "Get:11 http://archive.ubuntu.com/ubuntu focal-backports InRelease [108 kB]\n",
            "Hit:12 http://ppa.launchpad.net/deadsnakes/ppa/ubuntu focal InRelease\n",
            "Get:13 http://archive.ubuntu.com/ubuntu focal-updates/universe amd64 Packages [1,311 kB]\n",
            "Get:14 http://security.ubuntu.com/ubuntu focal-security/universe amd64 Packages [1,017 kB]\n",
            "Hit:15 http://ppa.launchpad.net/graphics-drivers/ppa/ubuntu focal InRelease\n",
            "Get:16 http://archive.ubuntu.com/ubuntu focal-updates/main amd64 Packages [3,017 kB]\n",
            "Hit:17 http://ppa.launchpad.net/ubuntugis/ppa/ubuntu focal InRelease\n",
            "Get:18 http://security.ubuntu.com/ubuntu focal-security/main amd64 Packages [2,542 kB]\n",
            "Fetched 8,226 kB in 4s (2,217 kB/s)\n",
            "Reading package lists... Done\n"
          ]
        }
      ],
      "source": [
        "# Activate Spark in our Colab notebook.\n",
        "import os\n",
        "# Find the latest version of spark 3.2  from http://www.apache.org/dist/spark/ and enter as the spark version\n",
        "# For example:\n",
        "# spark_version = 'spark-3.2.2'\n",
        "spark_version = 'spark-3.2.3'\n",
        "os.environ['SPARK_VERSION']=spark_version\n",
        "\n",
        "# Install Spark and Java\n",
        "!apt-get update\n",
        "!apt-get install openjdk-11-jdk-headless -qq > /dev/null\n",
        "!wget -q http://www.apache.org/dist/spark/$SPARK_VERSION/$SPARK_VERSION-bin-hadoop2.7.tgz\n",
        "!tar xf $SPARK_VERSION-bin-hadoop2.7.tgz\n",
        "!pip install -q findspark\n",
        "\n",
        "# Set Environment Variables\n",
        "import os\n",
        "os.environ[\"JAVA_HOME\"] = \"/usr/lib/jvm/java-11-openjdk-amd64\"\n",
        "os.environ[\"SPARK_HOME\"] = f\"/content/{spark_version}-bin-hadoop2.7\"\n",
        "\n",
        "# Start a SparkSession\n",
        "import findspark\n",
        "findspark.init()"
      ]
    },
    {
      "cell_type": "code",
      "execution_count": null,
      "metadata": {
        "colab": {
          "base_uri": "https://localhost:8080/"
        },
        "id": "BzCrgs0Z1rnw",
        "outputId": "91960fda-e149-477b-81f6-a223825fc1ea"
      },
      "outputs": [
        {
          "output_type": "stream",
          "name": "stdout",
          "text": [
            "--2023-03-13 22:14:10--  https://jdbc.postgresql.org/download/postgresql-42.2.9.jar\n",
            "Resolving jdbc.postgresql.org (jdbc.postgresql.org)... 72.32.157.228, 2001:4800:3e1:1::228\n",
            "Connecting to jdbc.postgresql.org (jdbc.postgresql.org)|72.32.157.228|:443... connected.\n",
            "HTTP request sent, awaiting response... 200 OK\n",
            "Length: 914037 (893K) [application/java-archive]\n",
            "Saving to: ‘postgresql-42.2.9.jar’\n",
            "\n",
            "postgresql-42.2.9.j 100%[===================>] 892.61K  1.25MB/s    in 0.7s    \n",
            "\n",
            "2023-03-13 22:14:12 (1.25 MB/s) - ‘postgresql-42.2.9.jar’ saved [914037/914037]\n",
            "\n"
          ]
        }
      ],
      "source": [
        "# Get postgresql package\n",
        "!wget https://jdbc.postgresql.org/download/postgresql-42.2.9.jar"
      ]
    },
    {
      "cell_type": "code",
      "execution_count": null,
      "metadata": {
        "id": "0DuBth0V2PR8"
      },
      "outputs": [],
      "source": [
        "# Import Spark and create a SparkSession\n",
        "from pyspark.sql import SparkSession\n",
        "spark = SparkSession.builder.appName(\"BigData-HW-1\").config(\"spark.driver.extraClassPath\",\"/content/postgresql-42.2.9.jar\").getOrCreate()"
      ]
    },
    {
      "cell_type": "markdown",
      "metadata": {
        "id": "D3W2XJVi2CU-"
      },
      "source": [
        "# Extract the Amazon Data into Spark DataFrame"
      ]
    },
    {
      "cell_type": "code",
      "execution_count": null,
      "metadata": {
        "colab": {
          "base_uri": "https://localhost:8080/"
        },
        "id": "Na_stw7b1wfU",
        "outputId": "4179e285-d869-46bc-96d9-50de8a39a70d"
      },
      "outputs": [
        {
          "output_type": "stream",
          "name": "stdout",
          "text": [
            "+-----------+-----------+--------------+----------+--------------+--------------------+----------------+-----------+-------------+-----------+----+-----------------+--------------------+--------------------+-------------------+\n",
            "|marketplace|customer_id|     review_id|product_id|product_parent|       product_title|product_category|star_rating|helpful_votes|total_votes|vine|verified_purchase|     review_headline|         review_body|        review_date|\n",
            "+-----------+-----------+--------------+----------+--------------+--------------------+----------------+-----------+-------------+-----------+----+-----------------+--------------------+--------------------+-------------------+\n",
            "|         US|   28794885| REAKC26P07MDN|B00Q0K9604|     510387886|(8-Pack) EZwhelp ...|    Pet Products|          5|            0|          0|   N|                Y|A great purchase ...|Best belly bands ...|2015-08-31 00:00:00|\n",
            "|         US|   11488901|R3NU7OMZ4HQIEG|B00MBW5O9W|     912374672|Warren Eckstein's...|    Pet Products|          2|            0|          1|   N|                Y|My dogs love Hugs...|My dogs love Hugs...|2015-08-31 00:00:00|\n",
            "|         US|   43214993|R14QJW3XF8QO1P|B0084OHUIO|     902215727|Tyson's True Chew...|    Pet Products|          5|            0|          0|   N|                Y|I have been purch...|I have been purch...|2015-08-31 00:00:00|\n",
            "|         US|   12835065|R2HB7AX0394ZGY|B001GS71K2|     568880110|Soft Side Pet Cra...|    Pet Products|          5|            0|          0|   N|                Y|it is easy to ope...|It is extremely w...|2015-08-31 00:00:00|\n",
            "|         US|   26334022| RGKMPDQGSAHR3|B004ABH1LG|     692846826|EliteField 3-Door...|    Pet Products|          5|            0|          0|   N|                Y|           Dog crate|Worked really wel...|2015-08-31 00:00:00|\n",
            "|         US|   22283621|R1DJCVPQGCV66E|B00AX0LFM4|     590674141|Carlson 68-Inch W...|    Pet Products|          5|            0|          0|   N|                Y|          Five Stars|I love my gates! ...|2015-08-31 00:00:00|\n",
            "|         US|   14469895|R3V52EAWLPBFQG|B00DQFZGZ0|     688538603|Dog Seat Cover Wi...|    Pet Products|          3|            0|          0|   N|                Y|Seat belt tugs on...|Didn't quite work...|2015-08-31 00:00:00|\n",
            "|         US|   50896354|R3DKO8J1J28QBI|B00DIRF9US|     742358789|The Bird Catcher ...|    Pet Products|          2|            0|          0|   N|                Y|Great Pole, but S...|I had the origina...|2015-08-31 00:00:00|\n",
            "|         US|   18440567| R764DBXGRNECG|B00JRCBFUG|     869798483|Cat Bed - Purrfec...|    Pet Products|          5|            1|          1|   N|                N|     My cat loves it|The pad is very s...|2015-08-31 00:00:00|\n",
            "|         US|   50502362| RW1853GAT0Z9F|B000L3XYZ4|     501118658|PetSafe Drinkwell...|    Pet Products|          5|            0|          0|   N|                Y|          Five Stars|My cat drinks mor...|2015-08-31 00:00:00|\n",
            "+-----------+-----------+--------------+----------+--------------+--------------------+----------------+-----------+-------------+-----------+----+-----------------+--------------------+--------------------+-------------------+\n",
            "only showing top 10 rows\n",
            "\n"
          ]
        }
      ],
      "source": [
        "# Read in the data from an S3 Bucket\n",
        "# https://s3.amazonaws.com/amazon-reviews-pds/tsv/amazon_reviews_us_Pet_Products_v1_00.tsv.gz\n",
        "\n",
        "from pyspark import SparkFiles\n",
        "url = \"https://s3.amazonaws.com/amazon-reviews-pds/tsv/amazon_reviews_us_Pet_Products_v1_00.tsv.gz\"\n",
        "spark.sparkContext.addFile(url)\n",
        "\n",
        "df = spark.read.option('header', 'true').csv(SparkFiles.get(\"amazon_reviews_us_Pet_Products_v1_00.tsv.gz\"), inferSchema=True, sep='\\t', timestampFormat=\"yyyy-MM-dd\")\n",
        "df.show(10)\n"
      ]
    },
    {
      "cell_type": "code",
      "source": [
        "df.printSchema()"
      ],
      "metadata": {
        "colab": {
          "base_uri": "https://localhost:8080/"
        },
        "id": "WSk7CSnrE-Al",
        "outputId": "29697568-75e8-4fea-ff60-d4c642f65d88"
      },
      "execution_count": null,
      "outputs": [
        {
          "output_type": "stream",
          "name": "stdout",
          "text": [
            "root\n",
            " |-- marketplace: string (nullable = true)\n",
            " |-- customer_id: integer (nullable = true)\n",
            " |-- review_id: string (nullable = true)\n",
            " |-- product_id: string (nullable = true)\n",
            " |-- product_parent: integer (nullable = true)\n",
            " |-- product_title: string (nullable = true)\n",
            " |-- product_category: string (nullable = true)\n",
            " |-- star_rating: integer (nullable = true)\n",
            " |-- helpful_votes: integer (nullable = true)\n",
            " |-- total_votes: integer (nullable = true)\n",
            " |-- vine: string (nullable = true)\n",
            " |-- verified_purchase: string (nullable = true)\n",
            " |-- review_headline: string (nullable = true)\n",
            " |-- review_body: string (nullable = true)\n",
            " |-- review_date: timestamp (nullable = true)\n",
            "\n"
          ]
        }
      ]
    },
    {
      "cell_type": "code",
      "execution_count": null,
      "metadata": {
        "colab": {
          "base_uri": "https://localhost:8080/"
        },
        "id": "Cayz-3Q52IM3",
        "outputId": "034a2ba4-daf4-4117-8eb7-6c7922828d64"
      },
      "outputs": [
        {
          "output_type": "stream",
          "name": "stdout",
          "text": [
            "number of rows in the Data Frame = 2643619\n"
          ]
        }
      ],
      "source": [
        "# Get the number of rows in the DataFrame.\n",
        "print(f'number of rows in the Data Frame = {df.count()}')"
      ]
    },
    {
      "cell_type": "code",
      "source": [
        "# Drop null values, by default is any which means will drop any rows which has a NA\n",
        "print((df.count(),len(df.columns)))\n",
        "df2 = df.dropna()\n",
        "df3 = df2.dropDuplicates()\n",
        "print((df3.count(),len(df3.columns)))\n",
        "df3.show()\n"
      ],
      "metadata": {
        "colab": {
          "base_uri": "https://localhost:8080/"
        },
        "id": "8l_m2T-eHjIy",
        "outputId": "97b28394-5e1f-4756-91be-6d63c9908c0d"
      },
      "execution_count": null,
      "outputs": [
        {
          "output_type": "stream",
          "name": "stdout",
          "text": [
            "(2643619, 15)\n",
            "(2643241, 15)\n",
            "+-----------+-----------+--------------+----------+--------------+--------------------+----------------+-----------+-------------+-----------+----+-----------------+--------------------+--------------------+-------------------+\n",
            "|marketplace|customer_id|     review_id|product_id|product_parent|       product_title|product_category|star_rating|helpful_votes|total_votes|vine|verified_purchase|     review_headline|         review_body|        review_date|\n",
            "+-----------+-----------+--------------+----------+--------------+--------------------+----------------+-----------+-------------+-----------+----+-----------------+--------------------+--------------------+-------------------+\n",
            "|         US|   26879429|R1015HJHGZUJVG|B00076HSUC|     421502374|Cholodin-FEL For ...|    Pet Products|          5|            1|          1|   N|                Y|      Helps Old Cats|Cholodin is a gre...|2013-08-11 00:00:00|\n",
            "|         US|   49345442|R1023YMO9XR93S|B00171IVHA|      25146499|H2O Animal Hydrat...|    Pet Products|          2|            0|          0|   N|                Y|      cheap fittings|started leaking a...|2014-12-02 00:00:00|\n",
            "|         US|   48576217|R10267J8PBWEVQ|B0024E0QHC|     857059897|Petstages No Stuf...|    Pet Products|          5|            0|          0|   N|                Y|   Jake loves these!|We have a golden ...|2014-06-25 00:00:00|\n",
            "|         US|   34624253|R103326H6Z3CTG|B000UZNLGA|     144491764|PetSafe Outdoor U...|    Pet Products|          5|            1|          1|   N|                Y|  Highly Recommended|We love the Petsa...|2011-11-12 00:00:00|\n",
            "|         US|   48425022| R1035J76P280Y|B003IRJTCC|     996646406|Taste of the Wild...|    Pet Products|          5|            6|          7|   N|                Y|    Yum(My Dog Says)|I am so happy Ama...|2010-12-22 00:00:00|\n",
            "|         US|   14356933| R103IP0FCBH8I|B0002AQPKW|     152333311|JW Pet Company Gr...|    Pet Products|          5|            1|          1|   N|                Y|The only rake you...|On the image is o...|2011-12-12 00:00:00|\n",
            "|         US|   14302088|R103WDQ4IDVIUV|B00E8LYJS6|     394306248|BRAVO 294127 Heal...|    Pet Products|          5|            0|          0|   N|                Y|  My cat loves them!|My cat has been n...|2014-12-15 00:00:00|\n",
            "|         US|   13853268|R103WQ2GZQLH6T|B006MUQO0M|      84171195|Flexi Explore Ret...|    Pet Products|          5|            0|          0|   N|                Y|        Very durable|This is still goi...|2015-06-26 00:00:00|\n",
            "|         US|   27083213|R104K30IR1GWUD|B008V68GKG|     915709880|Hunter MFG Pittsb...|    Pet Products|          5|            0|          0|   N|                Y|   Cutest shirt ever|We love the shirt...|2013-07-18 00:00:00|\n",
            "|         US|   18411324|R104LLIZQ8O3DW|B00ETS9LZ4|     259591253|Vet's Best 1 Coun...|    Pet Products|          5|            0|          0|   N|                Y|Made my little do...|My dog is cute, b...|2014-06-05 00:00:00|\n",
            "|         US|    2654230|R104OCMU5PF85T|B008CO4H8C|     648340511|Furhaven Hood Pet...|    Pet Products|          2|           25|         25|   N|                Y|... this same bed...|I bought this sam...|2015-03-03 00:00:00|\n",
            "|         US|   21635417|R104QASUJNTTNP|B0056J2PWG|      26863086|Dean and Tyler Hu...|    Pet Products|          5|            0|          0|   N|                N|      Big and Strong|This is a great t...|2014-04-11 00:00:00|\n",
            "|         US|   23364778|R1058KF5BARAYI|B004TA9VM0|     104404634|Fido Pet Products...|    Pet Products|          5|            0|          0|   N|                Y|       Great product|Awesome life jack...|2014-07-25 00:00:00|\n",
            "|         US|   24725120|R105G5FW41EYXT|B004X3VRLG|      13345555|FunBites MiniCong...|    Pet Products|          3|            0|          0|   Y|                N|   Issues of concern|Fun bites are too...|2011-11-14 00:00:00|\n",
            "|         US|   13073613|R105G8862VGKV0|B005G030TC|     263541539|Epica Remote Dog ...|    Pet Products|          5|            0|          0|   N|                Y|... the product f...|I've had the prod...|2014-09-30 00:00:00|\n",
            "|         US|    3213080|R1064AZGE512TF|B00QT2L7OG|     817582382|Tvoka® Black Ligh...|    Pet Products|          5|            2|          2|   N|                N|Susan's Urine Fin...|Hello, my name is...|2015-02-04 00:00:00|\n",
            "|         US|   25243716|R106NMEE713B5W|B0006JM0K8|     736629727|KollerCraft TOM A...|    Pet Products|          5|            1|          1|   N|                Y|         Works great|This works very w...|2014-03-07 00:00:00|\n",
            "|         US|   20672545|R106PSJK42J15R|B001B4Z5U4|      57261556|8 in 1 Perfect Co...|    Pet Products|          5|            0|          0|   N|                Y|8 in 1 Perfect Co...|This is a great s...|2011-11-04 00:00:00|\n",
            "|         US|   47793408|R106S6Q9EOXI5A|B001K5LGPW|     645464396|PediPaws Replacem...|    Pet Products|          5|            0|          0|   N|                Y|          Five Stars|Dogs hate the sou...|2014-10-10 00:00:00|\n",
            "|         US|     555555|R1080VJ3FU6LKO|B00FFECXN8|     149013886|Aspen Pet Ruff Ha...|    Pet Products|          5|            3|          3|   N|                Y|Unit was easy to ...|Box was damaged, ...|2015-02-21 00:00:00|\n",
            "+-----------+-----------+--------------+----------+--------------+--------------------+----------------+-----------+-------------+-----------+----+-----------------+--------------------+--------------------+-------------------+\n",
            "only showing top 20 rows\n",
            "\n"
          ]
        }
      ]
    },
    {
      "cell_type": "code",
      "source": [
        "df3.columns"
      ],
      "metadata": {
        "colab": {
          "base_uri": "https://localhost:8080/"
        },
        "id": "m1m4l18PI20j",
        "outputId": "3ab7d3c4-4379-4850-b34a-e873a0a1b888"
      },
      "execution_count": null,
      "outputs": [
        {
          "output_type": "execute_result",
          "data": {
            "text/plain": [
              "['marketplace',\n",
              " 'customer_id',\n",
              " 'review_id',\n",
              " 'product_id',\n",
              " 'product_parent',\n",
              " 'product_title',\n",
              " 'product_category',\n",
              " 'star_rating',\n",
              " 'helpful_votes',\n",
              " 'total_votes',\n",
              " 'vine',\n",
              " 'verified_purchase',\n",
              " 'review_headline',\n",
              " 'review_body',\n",
              " 'review_date']"
            ]
          },
          "metadata": {},
          "execution_count": 10
        }
      ]
    },
    {
      "cell_type": "markdown",
      "metadata": {
        "id": "C9U0rkGZ2eu7"
      },
      "source": [
        "# Transform the Data"
      ]
    },
    {
      "cell_type": "markdown",
      "source": [
        "## Create the \"review_id_table\"."
      ],
      "metadata": {
        "id": "dUoftWoKtM_c"
      }
    },
    {
      "cell_type": "code",
      "source": [
        "# from pyspark.sql.functions import to_date\n",
        "from pyspark.sql.functions import *\n",
        "from pyspark.sql.types import *\n",
        "# Create the \"review_id_df\" DataFrame with the appropriate columns and data types.\n",
        "review_id_table_df = df3.select([\"review_id\", \"customer_id\", \"product_id\", \"product_parent\", \"review_date\"])\n",
        "review_id_table_df2 = review_id_table_df.withColumn(\"review_date\",to_date(col(\"review_date\")))\n",
        "# review_id_table_df.show(truncate=False)"
      ],
      "metadata": {
        "id": "GuaKoeqjIwv2"
      },
      "execution_count": null,
      "outputs": []
    },
    {
      "cell_type": "code",
      "source": [
        "type(review_id_table_df2)"
      ],
      "metadata": {
        "colab": {
          "base_uri": "https://localhost:8080/"
        },
        "id": "vZSXCsEuJ5cD",
        "outputId": "4e7e71e6-2b88-4149-c855-5b7d9124d766"
      },
      "execution_count": null,
      "outputs": [
        {
          "output_type": "execute_result",
          "data": {
            "text/plain": [
              "pyspark.sql.dataframe.DataFrame"
            ]
          },
          "metadata": {},
          "execution_count": 12
        }
      ]
    },
    {
      "cell_type": "code",
      "source": [
        "review_id_table_df2.printSchema()"
      ],
      "metadata": {
        "colab": {
          "base_uri": "https://localhost:8080/"
        },
        "id": "rF6AHY_KQF0B",
        "outputId": "fae0c72b-b54e-4d3b-aa68-cdc9f9f9bb6e"
      },
      "execution_count": null,
      "outputs": [
        {
          "output_type": "stream",
          "name": "stdout",
          "text": [
            "root\n",
            " |-- review_id: string (nullable = true)\n",
            " |-- customer_id: integer (nullable = true)\n",
            " |-- product_id: string (nullable = true)\n",
            " |-- product_parent: integer (nullable = true)\n",
            " |-- review_date: date (nullable = true)\n",
            "\n"
          ]
        }
      ]
    },
    {
      "cell_type": "code",
      "source": [
        "review_id_table_df2.show()"
      ],
      "metadata": {
        "colab": {
          "base_uri": "https://localhost:8080/"
        },
        "id": "7d0lSqhVQyWH",
        "outputId": "94366df4-01f7-4b83-d694-a7b3749f79dd"
      },
      "execution_count": null,
      "outputs": [
        {
          "output_type": "stream",
          "name": "stdout",
          "text": [
            "+--------------+-----------+----------+--------------+-----------+\n",
            "|     review_id|customer_id|product_id|product_parent|review_date|\n",
            "+--------------+-----------+----------+--------------+-----------+\n",
            "|R1015HJHGZUJVG|   26879429|B00076HSUC|     421502374| 2013-08-11|\n",
            "|R1023YMO9XR93S|   49345442|B00171IVHA|      25146499| 2014-12-02|\n",
            "|R10267J8PBWEVQ|   48576217|B0024E0QHC|     857059897| 2014-06-25|\n",
            "|R103326H6Z3CTG|   34624253|B000UZNLGA|     144491764| 2011-11-12|\n",
            "| R1035J76P280Y|   48425022|B003IRJTCC|     996646406| 2010-12-22|\n",
            "| R103IP0FCBH8I|   14356933|B0002AQPKW|     152333311| 2011-12-12|\n",
            "|R103WDQ4IDVIUV|   14302088|B00E8LYJS6|     394306248| 2014-12-15|\n",
            "|R103WQ2GZQLH6T|   13853268|B006MUQO0M|      84171195| 2015-06-26|\n",
            "|R104K30IR1GWUD|   27083213|B008V68GKG|     915709880| 2013-07-18|\n",
            "|R104LLIZQ8O3DW|   18411324|B00ETS9LZ4|     259591253| 2014-06-05|\n",
            "|R104OCMU5PF85T|    2654230|B008CO4H8C|     648340511| 2015-03-03|\n",
            "|R104QASUJNTTNP|   21635417|B0056J2PWG|      26863086| 2014-04-11|\n",
            "|R1058KF5BARAYI|   23364778|B004TA9VM0|     104404634| 2014-07-25|\n",
            "|R105G5FW41EYXT|   24725120|B004X3VRLG|      13345555| 2011-11-14|\n",
            "|R105G8862VGKV0|   13073613|B005G030TC|     263541539| 2014-09-30|\n",
            "|R1064AZGE512TF|    3213080|B00QT2L7OG|     817582382| 2015-02-04|\n",
            "|R106NMEE713B5W|   25243716|B0006JM0K8|     736629727| 2014-03-07|\n",
            "|R106PSJK42J15R|   20672545|B001B4Z5U4|      57261556| 2011-11-04|\n",
            "|R106S6Q9EOXI5A|   47793408|B001K5LGPW|     645464396| 2014-10-10|\n",
            "|R1080VJ3FU6LKO|     555555|B00FFECXN8|     149013886| 2015-02-21|\n",
            "+--------------+-----------+----------+--------------+-----------+\n",
            "only showing top 20 rows\n",
            "\n"
          ]
        }
      ]
    },
    {
      "cell_type": "markdown",
      "source": [
        "## Create the \"products\" Table"
      ],
      "metadata": {
        "id": "aAVCFjXhtXO8"
      }
    },
    {
      "cell_type": "code",
      "execution_count": null,
      "metadata": {
        "id": "g9gTNhT62je4",
        "colab": {
          "base_uri": "https://localhost:8080/"
        },
        "outputId": "1c346ad2-17f7-4632-f2ec-2b9c0c38dc1d"
      },
      "outputs": [
        {
          "output_type": "stream",
          "name": "stdout",
          "text": [
            "(239307, 2)\n",
            "+----------+--------------------+\n",
            "|product_id|       product_title|\n",
            "+----------+--------------------+\n",
            "|B00134HSYS|Special Edition P...|\n",
            "|B00BS6NPBG|High Tech Pet 6-P...|\n",
            "|B000F930FS|PetSafe ScoopFree...|\n",
            "|B000FJ9QTW|Insight ActiviToy...|\n",
            "|B000ALY0OQ|SmartCat Bootsie'...|\n",
            "|B00Q8ETIZ0|Dogloveit Rubber ...|\n",
            "|B002VU2BA4|Kragonfly Interch...|\n",
            "|B00QA3K3QM|Attmu Retractable...|\n",
            "|B005DGHUC2|Zoo Med Laborator...|\n",
            "|B000XY7C7C|All Four Paws, Th...|\n",
            "|B004UUE26O|Animal Planet PET...|\n",
            "|B008APML2C|Chuckit Medium Ul...|\n",
            "|B00ZJN7T8E|1 Half Portion Ja...|\n",
            "|B00NRZC8LY|Hide-A-Toy Hallow...|\n",
            "|B001P3NU4E|Virbac C.E.T. Enz...|\n",
            "|B003TEQ2U6|Jolly Pets Jolly ...|\n",
            "|B00DJSNF0M|Multipet Lenny th...|\n",
            "|B00FXVFEQG|Bags on Board Dur...|\n",
            "|B005ORDWYA|Just One Bite II ...|\n",
            "|B003E77OG4|  Petmate Sky Kennel|\n",
            "+----------+--------------------+\n",
            "only showing top 20 rows\n",
            "\n"
          ]
        }
      ],
      "source": [
        "# Create the \"products_df\" DataFrame that drops the duplicates in the \"product_id\" and \"product_title columns. \n",
        "\n",
        "products_df2 = df3.select([\"product_id\", \"product_title\"])\n",
        "products_df = products_df2.dropDuplicates()\n",
        "print((products_df.count(),len(products_df.columns)))\n",
        "products_df.show()"
      ]
    },
    {
      "cell_type": "markdown",
      "source": [
        "## Create the \"customers\" Table"
      ],
      "metadata": {
        "id": "LJHuZ9zut0e5"
      }
    },
    {
      "cell_type": "code",
      "execution_count": null,
      "metadata": {
        "colab": {
          "base_uri": "https://localhost:8080/"
        },
        "id": "_pF2Vf3c2n2O",
        "outputId": "26c7da95-233d-408e-e721-8e4363ace9d0"
      },
      "outputs": [
        {
          "output_type": "stream",
          "name": "stdout",
          "text": [
            "+-----------+--------------+\n",
            "|customer_id|customer_count|\n",
            "+-----------+--------------+\n",
            "|   21105356|             5|\n",
            "|   29425552|             2|\n",
            "|   17041448|             5|\n",
            "|   37882821|             1|\n",
            "|   42532905|             1|\n",
            "|   18759528|             1|\n",
            "|   19172324|             4|\n",
            "|   51474275|             2|\n",
            "|   27911347|             9|\n",
            "|   22602819|             2|\n",
            "|    5658913|            34|\n",
            "|   14691760|             2|\n",
            "|   13645331|             1|\n",
            "|   14139374|             1|\n",
            "|   14397122|             4|\n",
            "|   10850500|             1|\n",
            "|   47233188|             6|\n",
            "|   24215961|             1|\n",
            "|   16468643|             1|\n",
            "|   18630443|             8|\n",
            "+-----------+--------------+\n",
            "only showing top 20 rows\n",
            "\n"
          ]
        }
      ],
      "source": [
        "# Create the \"customers_df\" DataFrame that groups the data on the \"customer_id\" by the number of times a customer reviewed a product. \n",
        "\n",
        "from pyspark.sql.functions import desc,count\n",
        "\n",
        "customers_df= df3.groupBy('customer_id').agg(count(\"customer_id\").alias(\"customer_count\"))\n",
        "customers_df.show()\n",
        "# df4 = df3.groupBy('customer_id').agg({'customer_id':'count'}).orderBy(desc('count(customer_id)'))\n",
        "# df5 = df4.withColumnRenamed(\"count(customer_id)\",\"customer_count\")\n",
        "# customers_df = df5.withColumn(\"customer_count\",to_int(col(\"customer_count\")))\n",
        "# customers_df.show(5)"
      ]
    },
    {
      "cell_type": "code",
      "source": [
        "customers_df.printSchema()"
      ],
      "metadata": {
        "colab": {
          "base_uri": "https://localhost:8080/"
        },
        "id": "iBEot8nMT8Fe",
        "outputId": "15d97fd0-f609-49fe-a4b5-ad9c5bcbf235"
      },
      "execution_count": null,
      "outputs": [
        {
          "output_type": "stream",
          "name": "stdout",
          "text": [
            "root\n",
            " |-- customer_id: integer (nullable = true)\n",
            " |-- customer_count: long (nullable = false)\n",
            "\n"
          ]
        }
      ]
    },
    {
      "cell_type": "markdown",
      "source": [
        "## Create the \"vine_table\"."
      ],
      "metadata": {
        "id": "8SbTasxbuXGK"
      }
    },
    {
      "cell_type": "code",
      "source": [
        "df3.columns"
      ],
      "metadata": {
        "colab": {
          "base_uri": "https://localhost:8080/"
        },
        "id": "7kevxmXbXBXG",
        "outputId": "ac875f40-a17d-432f-e7b8-6ed278c4ddc7"
      },
      "execution_count": null,
      "outputs": [
        {
          "output_type": "execute_result",
          "data": {
            "text/plain": [
              "['marketplace',\n",
              " 'customer_id',\n",
              " 'review_id',\n",
              " 'product_id',\n",
              " 'product_parent',\n",
              " 'product_title',\n",
              " 'product_category',\n",
              " 'star_rating',\n",
              " 'helpful_votes',\n",
              " 'total_votes',\n",
              " 'vine',\n",
              " 'verified_purchase',\n",
              " 'review_headline',\n",
              " 'review_body',\n",
              " 'review_date']"
            ]
          },
          "metadata": {},
          "execution_count": 18
        }
      ]
    },
    {
      "cell_type": "code",
      "source": [
        "# Create the \"vine_df\" DataFrame that has the \"review_id\", \"star_rating\", \"helpful_votes\", \"total_votes\", and \"vine\" columns. \n",
        "vine_df = df3.select([\"review_id\", \"star_rating\", \"helpful_votes\", \"total_votes\", \"vine\"])\n",
        "vine_df.show()"
      ],
      "metadata": {
        "colab": {
          "base_uri": "https://localhost:8080/"
        },
        "id": "sm1LK4hlW3Lq",
        "outputId": "b910f8bf-1665-4cd0-e2ca-771e92d7ebc3"
      },
      "execution_count": null,
      "outputs": [
        {
          "output_type": "stream",
          "name": "stdout",
          "text": [
            "+--------------+-----------+-------------+-----------+----+\n",
            "|     review_id|star_rating|helpful_votes|total_votes|vine|\n",
            "+--------------+-----------+-------------+-----------+----+\n",
            "|R1015HJHGZUJVG|          5|            1|          1|   N|\n",
            "|R1023YMO9XR93S|          2|            0|          0|   N|\n",
            "|R10267J8PBWEVQ|          5|            0|          0|   N|\n",
            "|R103326H6Z3CTG|          5|            1|          1|   N|\n",
            "| R1035J76P280Y|          5|            6|          7|   N|\n",
            "| R103IP0FCBH8I|          5|            1|          1|   N|\n",
            "|R103WDQ4IDVIUV|          5|            0|          0|   N|\n",
            "|R103WQ2GZQLH6T|          5|            0|          0|   N|\n",
            "|R104K30IR1GWUD|          5|            0|          0|   N|\n",
            "|R104LLIZQ8O3DW|          5|            0|          0|   N|\n",
            "|R104OCMU5PF85T|          2|           25|         25|   N|\n",
            "|R104QASUJNTTNP|          5|            0|          0|   N|\n",
            "|R1058KF5BARAYI|          5|            0|          0|   N|\n",
            "|R105G5FW41EYXT|          3|            0|          0|   Y|\n",
            "|R105G8862VGKV0|          5|            0|          0|   N|\n",
            "|R1064AZGE512TF|          5|            2|          2|   N|\n",
            "|R106NMEE713B5W|          5|            1|          1|   N|\n",
            "|R106PSJK42J15R|          5|            0|          0|   N|\n",
            "|R106S6Q9EOXI5A|          5|            0|          0|   N|\n",
            "|R1080VJ3FU6LKO|          5|            3|          3|   N|\n",
            "+--------------+-----------+-------------+-----------+----+\n",
            "only showing top 20 rows\n",
            "\n"
          ]
        }
      ]
    },
    {
      "cell_type": "markdown",
      "metadata": {
        "id": "I8aTsEjZ2s6L"
      },
      "source": [
        "# Load"
      ]
    },
    {
      "cell_type": "code",
      "execution_count": null,
      "metadata": {
        "id": "W4dzUKfI2vXM"
      },
      "outputs": [],
      "source": [
        "mode = \"append\"\n",
        "jdbc_url=\"jdbc:postgresql://mypostgresdb.cailygz0tqjt.us-east-1.rds.amazonaws.com:5432/my_data_class_db\"\n",
        "config = {\"user\":\"postgres\", \"password\": \"123postgres456\", \"driver\":\"org.postgresql.Driver\"}\n",
        "\n",
        "# # Configure settings for RDS\n",
        "# mode = \"append\"\n",
        "# jdbc_url=\"jdbc:postgresql://mypostgresdb.cailygz0tqjt.us-east-1.rds.amazonaws.com:5432/Employee_stu_etl_rds\"\n",
        "# # jdbc_url=\"jdbc:postgresql://mypostgresdb.cailygz0tqjt.us-east-1.rds.amazonaws.com:5432/Employee_stu_etl_rds\"\n",
        "# config = {\"user\":\"postgres\", \n",
        "#           \"password\": \"postgres\", \n",
        "#           \"driver\":\"org.postgresql.Driver\"}"
      ]
    },
    {
      "cell_type": "code",
      "execution_count": null,
      "metadata": {
        "id": "iOxKqMsD2yVs"
      },
      "outputs": [],
      "source": [
        "# Write review_id_df to table in RDS\n",
        "review_id_table_df2.write.jdbc(url=jdbc_url, table='review_id_table', mode=mode, properties=config)"
      ]
    },
    {
      "cell_type": "code",
      "execution_count": null,
      "metadata": {
        "id": "pPXyGVE-2yPJ"
      },
      "outputs": [],
      "source": [
        "# Write products_df to table in RDS\n",
        "products_df.write.jdbc(url=jdbc_url, table='products', mode=mode, properties=config)"
      ]
    },
    {
      "cell_type": "code",
      "execution_count": null,
      "metadata": {
        "id": "aHbca4zN2yIa"
      },
      "outputs": [],
      "source": [
        "# Write customers_df to table in RDS\n",
        "customers_df.write.jdbc(url=jdbc_url, table='customers', mode=mode, properties=config)"
      ]
    },
    {
      "cell_type": "code",
      "execution_count": null,
      "metadata": {
        "id": "2HfOFneW2x_F"
      },
      "outputs": [],
      "source": [
        "# Write vine_df to table in RDS\n",
        "vine_df.write.jdbc(url=jdbc_url, table='vine_table', mode=mode, properties=config)"
      ]
    }
  ],
  "metadata": {
    "colab": {
      "provenance": []
    },
    "kernelspec": {
      "display_name": "Python 3",
      "language": "python",
      "name": "python3"
    },
    "language_info": {
      "codemirror_mode": {
        "name": "ipython",
        "version": 3
      },
      "file_extension": ".py",
      "mimetype": "text/x-python",
      "name": "python",
      "nbconvert_exporter": "python",
      "pygments_lexer": "ipython3",
      "version": "3.8.8"
    }
  },
  "nbformat": 4,
  "nbformat_minor": 0
}